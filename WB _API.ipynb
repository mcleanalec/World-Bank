{
 "cells": [
  {
   "cell_type": "markdown",
   "metadata": {
    "toc": "true"
   },
   "source": [
    "# Table of Contents\n",
    " <p>"
   ]
  },
  {
   "cell_type": "code",
   "execution_count": 1,
   "metadata": {
    "ExecuteTime": {
     "end_time": "2018-02-22T17:36:24.871173",
     "start_time": "2018-02-22T17:36:24.275099"
    },
    "collapsed": true
   },
   "outputs": [],
   "source": [
    "# A special directive that will display plots inline in a jupyter notebook\n",
    "%matplotlib inline"
   ]
  },
  {
   "cell_type": "code",
   "execution_count": 2,
   "metadata": {
    "ExecuteTime": {
     "end_time": "2018-02-22T17:36:25.386810",
     "start_time": "2018-02-22T17:36:24.873120"
    },
    "collapsed": true
   },
   "outputs": [],
   "source": [
    "import urllib2\n",
    "import json\n",
    "import pandas as pd\n",
    "import matplotlib.pyplot as plt\n",
    "from matplotlib import pylab\n",
    "from matplotlib.font_manager import FontProperties\n",
    "plt.style.use('seaborn-darkgrid')"
   ]
  },
  {
   "cell_type": "code",
   "execution_count": 3,
   "metadata": {
    "ExecuteTime": {
     "end_time": "2018-02-22T17:36:27.249289",
     "start_time": "2018-02-22T17:36:25.388993"
    },
    "collapsed": true
   },
   "outputs": [],
   "source": [
    "#save the api call url as a variable\n",
    "url = 'http://api.worldbank.org/v2/countries/all/indicators/SH.STA.ACSN?per_page=15312&date=1960:2018&format=json'\n",
    "#open the webiste with the results of the api call\n",
    "json_obj = urllib2.urlopen(url)"
   ]
  },
  {
   "cell_type": "code",
   "execution_count": 4,
   "metadata": {
    "ExecuteTime": {
     "end_time": "2018-02-22T17:36:27.754919",
     "start_time": "2018-02-22T17:36:27.252709"
    },
    "collapsed": true
   },
   "outputs": [],
   "source": [
    "#load the reuslts into a json object in python\n",
    "data = json.load(json_obj)"
   ]
  },
  {
   "cell_type": "code",
   "execution_count": 5,
   "metadata": {
    "ExecuteTime": {
     "end_time": "2018-02-22T17:36:27.796883",
     "start_time": "2018-02-22T17:36:27.757204"
    },
    "collapsed": true
   },
   "outputs": [],
   "source": [
    "#now i need to extract the useful information - for this it will be the country, the date, and the value (the % access to sanitation facilities)\n",
    "#create 3 empty lists to later store the information\n",
    "country = []\n",
    "value = []\n",
    "date = []\n",
    "#iterate the entire length of the json file \n",
    "for i in range(15312):\n",
    "    country.append(data[1][i]['country']['value']) #store the results of data[1][i]['country']['value'] in the country list\n",
    "    value.append(data[1][i]['value']) #store the results of data[1][i]['country']['value'] in the value list\n",
    "    date.append(data[1][i]['date']) #store the results of data[1][i]['country']['value'] in the date list"
   ]
  },
  {
   "cell_type": "code",
   "execution_count": 6,
   "metadata": {
    "ExecuteTime": {
     "end_time": "2018-02-22T17:36:27.808690",
     "start_time": "2018-02-22T17:36:27.798745"
    },
    "collapsed": true
   },
   "outputs": [],
   "source": [
    "#create a pandas dateframe from the data to more easily look at trends\n",
    "df = pd.DataFrame({'country': country, 'value': value, 'date':date})"
   ]
  },
  {
   "cell_type": "code",
   "execution_count": 7,
   "metadata": {
    "ExecuteTime": {
     "end_time": "2018-02-22T17:36:27.833903",
     "start_time": "2018-02-22T17:36:27.810570"
    },
    "collapsed": false,
    "scrolled": false
   },
   "outputs": [
    {
     "data": {
      "text/html": [
       "<div>\n",
       "<table border=\"1\" class=\"dataframe\">\n",
       "  <thead>\n",
       "    <tr style=\"text-align: right;\">\n",
       "      <th></th>\n",
       "      <th>country</th>\n",
       "      <th>date</th>\n",
       "      <th>value</th>\n",
       "    </tr>\n",
       "  </thead>\n",
       "  <tbody>\n",
       "    <tr>\n",
       "      <th>0</th>\n",
       "      <td>Arab World</td>\n",
       "      <td>2017</td>\n",
       "      <td>NaN</td>\n",
       "    </tr>\n",
       "    <tr>\n",
       "      <th>1</th>\n",
       "      <td>Arab World</td>\n",
       "      <td>2016</td>\n",
       "      <td>NaN</td>\n",
       "    </tr>\n",
       "    <tr>\n",
       "      <th>2</th>\n",
       "      <td>Arab World</td>\n",
       "      <td>2015</td>\n",
       "      <td>90.370494</td>\n",
       "    </tr>\n",
       "    <tr>\n",
       "      <th>3</th>\n",
       "      <td>Arab World</td>\n",
       "      <td>2014</td>\n",
       "      <td>83.145325</td>\n",
       "    </tr>\n",
       "    <tr>\n",
       "      <th>4</th>\n",
       "      <td>Arab World</td>\n",
       "      <td>2013</td>\n",
       "      <td>83.114690</td>\n",
       "    </tr>\n",
       "  </tbody>\n",
       "</table>\n",
       "</div>"
      ],
      "text/plain": [
       "      country  date      value\n",
       "0  Arab World  2017        NaN\n",
       "1  Arab World  2016        NaN\n",
       "2  Arab World  2015  90.370494\n",
       "3  Arab World  2014  83.145325\n",
       "4  Arab World  2013  83.114690"
      ]
     },
     "execution_count": 7,
     "metadata": {},
     "output_type": "execute_result"
    }
   ],
   "source": [
    "#make sure this worked\n",
    "df.head()"
   ]
  },
  {
   "cell_type": "code",
   "execution_count": 8,
   "metadata": {
    "ExecuteTime": {
     "end_time": "2018-02-22T17:36:27.849836",
     "start_time": "2018-02-22T17:36:27.836505"
    },
    "collapsed": true
   },
   "outputs": [],
   "source": [
    "#exclude null values from analysis\n",
    "df = df.dropna()"
   ]
  },
  {
   "cell_type": "code",
   "execution_count": 9,
   "metadata": {
    "ExecuteTime": {
     "end_time": "2018-02-22T17:36:27.953758",
     "start_time": "2018-02-22T17:36:27.852297"
    },
    "collapsed": true,
    "scrolled": false
   },
   "outputs": [],
   "source": [
    "# data available for the earliest date is different for each country\n",
    "# df.loc[df.groupby(\"country\")[\"date\"].idxmin()]['value'].values --> will group the countries, find the index of the earliest date (min), and extract the value from that year\n",
    "# df.loc[df.groupby(\"country\")[\"date\"].idxmax()]['value'].values --> will group the countries, find the index of the last date (max), and extract the value from that year\n",
    "changes = df.loc[df.groupby(\"country\")[\"date\"].idxmin()]['value'].values-df.loc[df.groupby(\"country\")[\"date\"].idxmax()]['value'].values"
   ]
  },
  {
   "cell_type": "code",
   "execution_count": 10,
   "metadata": {
    "ExecuteTime": {
     "end_time": "2018-02-22T17:36:28.012061",
     "start_time": "2018-02-22T17:36:27.955879"
    },
    "collapsed": true,
    "scrolled": true
   },
   "outputs": [],
   "source": [
    "#save the order of countries\n",
    "country = df.loc[df.groupby(\"country\")[\"date\"].idxmin()]['country']"
   ]
  },
  {
   "cell_type": "code",
   "execution_count": 11,
   "metadata": {
    "ExecuteTime": {
     "end_time": "2018-02-22T17:36:28.018796",
     "start_time": "2018-02-22T17:36:28.013879"
    },
    "collapsed": true,
    "scrolled": true
   },
   "outputs": [],
   "source": [
    "#create a df with a list of the countries\n",
    "country_df = pd.DataFrame(country, columns={'country'})"
   ]
  },
  {
   "cell_type": "code",
   "execution_count": 12,
   "metadata": {
    "ExecuteTime": {
     "end_time": "2018-02-22T17:36:28.026111",
     "start_time": "2018-02-22T17:36:28.021934"
    },
    "collapsed": true
   },
   "outputs": [],
   "source": [
    "#add the change variable that we calculated above to the df\n",
    "country_df['change'] = changes"
   ]
  },
  {
   "cell_type": "code",
   "execution_count": 13,
   "metadata": {
    "ExecuteTime": {
     "end_time": "2018-02-22T17:36:28.047489",
     "start_time": "2018-02-22T17:36:28.028475"
    },
    "collapsed": false,
    "scrolled": false
   },
   "outputs": [
    {
     "data": {
      "text/html": [
       "<div>\n",
       "<table border=\"1\" class=\"dataframe\">\n",
       "  <thead>\n",
       "    <tr style=\"text-align: right;\">\n",
       "      <th></th>\n",
       "      <th>country</th>\n",
       "      <th>change</th>\n",
       "    </tr>\n",
       "  </thead>\n",
       "  <tbody>\n",
       "    <tr>\n",
       "      <th>5885</th>\n",
       "      <td>Djibouti</td>\n",
       "      <td>18.7</td>\n",
       "    </tr>\n",
       "    <tr>\n",
       "      <th>6871</th>\n",
       "      <td>Georgia</td>\n",
       "      <td>11.5</td>\n",
       "    </tr>\n",
       "    <tr>\n",
       "      <th>11105</th>\n",
       "      <td>Nigeria</td>\n",
       "      <td>9.1</td>\n",
       "    </tr>\n",
       "    <tr>\n",
       "      <th>6229</th>\n",
       "      <td>Equatorial Guinea</td>\n",
       "      <td>6.6</td>\n",
       "    </tr>\n",
       "    <tr>\n",
       "      <th>14063</th>\n",
       "      <td>Tonga</td>\n",
       "      <td>3.4</td>\n",
       "    </tr>\n",
       "  </tbody>\n",
       "</table>\n",
       "</div>"
      ],
      "text/plain": [
       "                 country  change\n",
       "5885            Djibouti    18.7\n",
       "6871             Georgia    11.5\n",
       "11105            Nigeria     9.1\n",
       "6229   Equatorial Guinea     6.6\n",
       "14063              Tonga     3.4"
      ]
     },
     "execution_count": 13,
     "metadata": {},
     "output_type": "execute_result"
    }
   ],
   "source": [
    "#only include top 10 declines in access to sanitation\n",
    "country_df[country_df['change']>0].sort_values('change', ascending=False)[:5]"
   ]
  },
  {
   "cell_type": "code",
   "execution_count": 14,
   "metadata": {
    "ExecuteTime": {
     "end_time": "2018-02-22T17:36:28.055551",
     "start_time": "2018-02-22T17:36:28.049452"
    },
    "collapsed": true
   },
   "outputs": [],
   "source": [
    "# make a new list with only the 5 countries that decreased the most\n",
    "declining_countries = country_df[country_df['change']>0].sort_values('change', ascending=False)[:5]['country'].values"
   ]
  },
  {
   "cell_type": "code",
   "execution_count": 16,
   "metadata": {
    "ExecuteTime": {
     "end_time": "2018-02-22T17:36:28.076390",
     "start_time": "2018-02-22T17:36:28.069437"
    },
    "collapsed": true,
    "scrolled": true
   },
   "outputs": [],
   "source": [
    "#create a new df from the original df but with ONLY the 5 countries that declined that most\n",
    "decline = df[df['country'].isin(declining_countries)]"
   ]
  },
  {
   "cell_type": "code",
   "execution_count": 17,
   "metadata": {
    "ExecuteTime": {
     "end_time": "2018-02-22T17:36:30.509497",
     "start_time": "2018-02-22T17:36:28.079134"
    },
    "collapsed": false,
    "scrolled": false
   },
   "outputs": [
    {
     "data": {
      "image/png": "[encoded data removed]",
      "text/plain": [
       "<matplotlib.figure.Figure at 0x112bcb9d0>"
      ]
     },
     "metadata": {},
     "output_type": "display_data"
    }
   ],
   "source": [
    "fig, ax = plt.subplots(figsize=(8, 6))\n",
    "\n",
    "for key, grp in decline.groupby(['country']):\n",
    "    ax = grp.sort_values('date').plot(ax=ax, kind='line', x='date', y='value', label=key)\n",
    "\n",
    "plt.ylabel('% of population with access', fontsize=12)\n",
    "plt.xlabel('Date', fontsize=12)\n",
    "plt.title('Improved sanitation facilities since 1960', fontsize=12)\n",
    "pylab.legend(loc=9, bbox_to_anchor=(0.5, -0.2), ncol=2)\n",
    "plt.savefig('decrease.png', dpi=400, bbox_inches='tight')\n",
    "plt.show()"
   ]
  },
  {
   "cell_type": "code",
   "execution_count": 18,
   "metadata": {
    "ExecuteTime": {
     "end_time": "2018-02-22T17:36:30.517770",
     "start_time": "2018-02-22T17:36:30.512341"
    },
    "collapsed": true
   },
   "outputs": [],
   "source": [
    "#creating 4 new variables to represent income groups\n",
    "LIE = 'Low income'\n",
    "LMIE = 'Lower middle income'\n",
    "UMIE = 'Upper middle income'\n",
    "HIE = 'High income'"
   ]
  },
  {
   "cell_type": "code",
   "execution_count": 20,
   "metadata": {
    "ExecuteTime": {
     "end_time": "2018-02-22T17:36:30.548271",
     "start_time": "2018-02-22T17:36:30.528529"
    },
    "collapsed": true,
    "scrolled": true
   },
   "outputs": [],
   "source": [
    "# the json file actually has entries that denote income groups so i just need to index the dataframe for the groups that i need\n",
    "income_df =  df[(df.country == LIE) | (df.country == LMIE) | (df.country == UMIE) | \\\n",
    "             (df.country == HIE) | (df.country == 'World')]"
   ]
  },
  {
   "cell_type": "code",
   "execution_count": 21,
   "metadata": {
    "ExecuteTime": {
     "end_time": "2018-02-22T17:36:31.000050",
     "start_time": "2018-02-22T17:36:30.550789"
    },
    "collapsed": false,
    "scrolled": false
   },
   "outputs": [
    {
     "data": {
      "image/png": "[encoded data removed]",
      "text/plain": [
       "<matplotlib.figure.Figure at 0x112cd85d0>"
      ]
     },
     "metadata": {},
     "output_type": "display_data"
    }
   ],
   "source": [
    "#make the plot\n",
    "fig, ax = plt.subplots(figsize=(8, 6))\n",
    "\n",
    "for key, grp in income_df.groupby(['country']):\n",
    "    ax = grp.sort_values('date').plot(ax=ax, kind='line', x='date', y='value', label=key)\n",
    "\n",
    "plt.ylabel('% of population with access', fontsize=12)\n",
    "plt.xlabel('Date', fontsize=12)\n",
    "plt.title('Improved sanitation facilities since 1960', fontsize=12)\n",
    "pylab.legend(loc=9, bbox_to_anchor=(0.5, -0.2), ncol=2)\n",
    "#plt.savefig('decrease.png', dpi=300, bbox_inches='tight')\n",
    "plt.show()"
   ]
  },
  {
   "cell_type": "code",
   "execution_count": 22,
   "metadata": {
    "ExecuteTime": {
     "end_time": "2018-02-22T17:36:31.013224",
     "start_time": "2018-02-22T17:36:31.002459"
    },
    "collapsed": false
   },
   "outputs": [
    {
     "name": "stdout",
     "output_type": "stream",
     "text": [
      "[(u'High income', 0.64074209203539567), (u'Low income', 15.170026916526201), (u'Lower middle income', 23.193720185731699), (u'Upper middle income', 21.644699404988891), (u'World', 14.632078812554994)]\n"
     ]
    }
   ],
   "source": [
    "#see who has changed the most\n",
    "beg = income_df[income_df['date'] == '1990']['value'].values\n",
    "end = income_df[income_df['date'] == '2015']['value'].values\n",
    "#subtract the end value from the beginning value and print the income group\n",
    "print zip(income_df[income_df['date'] == '1990']['country'],\\\n",
    "       end - beg)"
   ]
  },
  {
   "cell_type": "code",
   "execution_count": 23,
   "metadata": {
    "ExecuteTime": {
     "end_time": "2018-02-22T17:36:31.043365",
     "start_time": "2018-02-22T17:36:31.017389"
    },
    "collapsed": false,
    "scrolled": true
   },
   "outputs": [
    {
     "data": {
      "text/html": [
       "<div>\n",
       "<table border=\"1\" class=\"dataframe\">\n",
       "  <thead>\n",
       "    <tr style=\"text-align: right;\">\n",
       "      <th></th>\n",
       "      <th>country</th>\n",
       "      <th>date</th>\n",
       "      <th>value</th>\n",
       "    </tr>\n",
       "  </thead>\n",
       "  <tbody>\n",
       "    <tr>\n",
       "      <th>2670</th>\n",
       "      <td>World</td>\n",
       "      <td>2015</td>\n",
       "      <td>67.528745</td>\n",
       "    </tr>\n",
       "    <tr>\n",
       "      <th>2671</th>\n",
       "      <td>World</td>\n",
       "      <td>2014</td>\n",
       "      <td>67.026518</td>\n",
       "    </tr>\n",
       "    <tr>\n",
       "      <th>2672</th>\n",
       "      <td>World</td>\n",
       "      <td>2013</td>\n",
       "      <td>66.503469</td>\n",
       "    </tr>\n",
       "    <tr>\n",
       "      <th>2673</th>\n",
       "      <td>World</td>\n",
       "      <td>2012</td>\n",
       "      <td>65.931285</td>\n",
       "    </tr>\n",
       "    <tr>\n",
       "      <th>2674</th>\n",
       "      <td>World</td>\n",
       "      <td>2011</td>\n",
       "      <td>65.298910</td>\n",
       "    </tr>\n",
       "    <tr>\n",
       "      <th>2675</th>\n",
       "      <td>World</td>\n",
       "      <td>2010</td>\n",
       "      <td>64.828864</td>\n",
       "    </tr>\n",
       "    <tr>\n",
       "      <th>2676</th>\n",
       "      <td>World</td>\n",
       "      <td>2009</td>\n",
       "      <td>64.254822</td>\n",
       "    </tr>\n",
       "    <tr>\n",
       "      <th>2677</th>\n",
       "      <td>World</td>\n",
       "      <td>2008</td>\n",
       "      <td>63.657723</td>\n",
       "    </tr>\n",
       "    <tr>\n",
       "      <th>2678</th>\n",
       "      <td>World</td>\n",
       "      <td>2007</td>\n",
       "      <td>63.042215</td>\n",
       "    </tr>\n",
       "    <tr>\n",
       "      <th>2679</th>\n",
       "      <td>World</td>\n",
       "      <td>2006</td>\n",
       "      <td>62.451341</td>\n",
       "    </tr>\n",
       "    <tr>\n",
       "      <th>2680</th>\n",
       "      <td>World</td>\n",
       "      <td>2005</td>\n",
       "      <td>61.838010</td>\n",
       "    </tr>\n",
       "    <tr>\n",
       "      <th>2681</th>\n",
       "      <td>World</td>\n",
       "      <td>2004</td>\n",
       "      <td>61.228733</td>\n",
       "    </tr>\n",
       "    <tr>\n",
       "      <th>2682</th>\n",
       "      <td>World</td>\n",
       "      <td>2003</td>\n",
       "      <td>60.601584</td>\n",
       "    </tr>\n",
       "    <tr>\n",
       "      <th>2683</th>\n",
       "      <td>World</td>\n",
       "      <td>2002</td>\n",
       "      <td>59.994388</td>\n",
       "    </tr>\n",
       "    <tr>\n",
       "      <th>2684</th>\n",
       "      <td>World</td>\n",
       "      <td>2001</td>\n",
       "      <td>59.390031</td>\n",
       "    </tr>\n",
       "    <tr>\n",
       "      <th>2685</th>\n",
       "      <td>World</td>\n",
       "      <td>2000</td>\n",
       "      <td>58.783927</td>\n",
       "    </tr>\n",
       "    <tr>\n",
       "      <th>2686</th>\n",
       "      <td>World</td>\n",
       "      <td>1999</td>\n",
       "      <td>58.185156</td>\n",
       "    </tr>\n",
       "    <tr>\n",
       "      <th>2687</th>\n",
       "      <td>World</td>\n",
       "      <td>1998</td>\n",
       "      <td>57.616215</td>\n",
       "    </tr>\n",
       "    <tr>\n",
       "      <th>2688</th>\n",
       "      <td>World</td>\n",
       "      <td>1997</td>\n",
       "      <td>57.005241</td>\n",
       "    </tr>\n",
       "    <tr>\n",
       "      <th>2689</th>\n",
       "      <td>World</td>\n",
       "      <td>1996</td>\n",
       "      <td>56.434074</td>\n",
       "    </tr>\n",
       "    <tr>\n",
       "      <th>2690</th>\n",
       "      <td>World</td>\n",
       "      <td>1995</td>\n",
       "      <td>55.690249</td>\n",
       "    </tr>\n",
       "    <tr>\n",
       "      <th>2691</th>\n",
       "      <td>World</td>\n",
       "      <td>1994</td>\n",
       "      <td>55.128863</td>\n",
       "    </tr>\n",
       "    <tr>\n",
       "      <th>2692</th>\n",
       "      <td>World</td>\n",
       "      <td>1993</td>\n",
       "      <td>54.225760</td>\n",
       "    </tr>\n",
       "    <tr>\n",
       "      <th>2693</th>\n",
       "      <td>World</td>\n",
       "      <td>1992</td>\n",
       "      <td>53.747831</td>\n",
       "    </tr>\n",
       "    <tr>\n",
       "      <th>2694</th>\n",
       "      <td>World</td>\n",
       "      <td>1991</td>\n",
       "      <td>53.237639</td>\n",
       "    </tr>\n",
       "    <tr>\n",
       "      <th>2695</th>\n",
       "      <td>World</td>\n",
       "      <td>1990</td>\n",
       "      <td>52.896666</td>\n",
       "    </tr>\n",
       "  </tbody>\n",
       "</table>\n",
       "</div>"
      ],
      "text/plain": [
       "     country  date      value\n",
       "2670   World  2015  67.528745\n",
       "2671   World  2014  67.026518\n",
       "2672   World  2013  66.503469\n",
       "2673   World  2012  65.931285\n",
       "2674   World  2011  65.298910\n",
       "2675   World  2010  64.828864\n",
       "2676   World  2009  64.254822\n",
       "2677   World  2008  63.657723\n",
       "2678   World  2007  63.042215\n",
       "2679   World  2006  62.451341\n",
       "2680   World  2005  61.838010\n",
       "2681   World  2004  61.228733\n",
       "2682   World  2003  60.601584\n",
       "2683   World  2002  59.994388\n",
       "2684   World  2001  59.390031\n",
       "2685   World  2000  58.783927\n",
       "2686   World  1999  58.185156\n",
       "2687   World  1998  57.616215\n",
       "2688   World  1997  57.005241\n",
       "2689   World  1996  56.434074\n",
       "2690   World  1995  55.690249\n",
       "2691   World  1994  55.128863\n",
       "2692   World  1993  54.225760\n",
       "2693   World  1992  53.747831\n",
       "2694   World  1991  53.237639\n",
       "2695   World  1990  52.896666"
      ]
     },
     "execution_count": 23,
     "metadata": {},
     "output_type": "execute_result"
    }
   ],
   "source": [
    "df[df['country'] == 'World']"
   ]
  },
  {
   "cell_type": "code",
   "execution_count": 24,
   "metadata": {
    "ExecuteTime": {
     "end_time": "2018-02-22T17:36:31.088805",
     "start_time": "2018-02-22T17:36:31.045762"
    },
    "collapsed": false,
    "scrolled": true
   },
   "outputs": [
    {
     "data": {
      "text/html": [
       "<div>\n",
       "<table border=\"1\" class=\"dataframe\">\n",
       "  <thead>\n",
       "    <tr style=\"text-align: right;\">\n",
       "      <th></th>\n",
       "      <th>country</th>\n",
       "      <th>date</th>\n",
       "      <th>value</th>\n",
       "    </tr>\n",
       "  </thead>\n",
       "  <tbody>\n",
       "    <tr>\n",
       "      <th>5860</th>\n",
       "      <td>Djibouti</td>\n",
       "      <td>2015</td>\n",
       "      <td>47.4</td>\n",
       "    </tr>\n",
       "    <tr>\n",
       "      <th>5861</th>\n",
       "      <td>Djibouti</td>\n",
       "      <td>2014</td>\n",
       "      <td>47.4</td>\n",
       "    </tr>\n",
       "    <tr>\n",
       "      <th>5862</th>\n",
       "      <td>Djibouti</td>\n",
       "      <td>2013</td>\n",
       "      <td>47.3</td>\n",
       "    </tr>\n",
       "    <tr>\n",
       "      <th>5863</th>\n",
       "      <td>Djibouti</td>\n",
       "      <td>2012</td>\n",
       "      <td>47.3</td>\n",
       "    </tr>\n",
       "    <tr>\n",
       "      <th>5864</th>\n",
       "      <td>Djibouti</td>\n",
       "      <td>2011</td>\n",
       "      <td>47.3</td>\n",
       "    </tr>\n",
       "    <tr>\n",
       "      <th>5865</th>\n",
       "      <td>Djibouti</td>\n",
       "      <td>2010</td>\n",
       "      <td>48.4</td>\n",
       "    </tr>\n",
       "    <tr>\n",
       "      <th>5866</th>\n",
       "      <td>Djibouti</td>\n",
       "      <td>2009</td>\n",
       "      <td>49.5</td>\n",
       "    </tr>\n",
       "    <tr>\n",
       "      <th>5867</th>\n",
       "      <td>Djibouti</td>\n",
       "      <td>2008</td>\n",
       "      <td>50.6</td>\n",
       "    </tr>\n",
       "    <tr>\n",
       "      <th>5868</th>\n",
       "      <td>Djibouti</td>\n",
       "      <td>2007</td>\n",
       "      <td>51.7</td>\n",
       "    </tr>\n",
       "    <tr>\n",
       "      <th>5869</th>\n",
       "      <td>Djibouti</td>\n",
       "      <td>2006</td>\n",
       "      <td>52.8</td>\n",
       "    </tr>\n",
       "    <tr>\n",
       "      <th>5870</th>\n",
       "      <td>Djibouti</td>\n",
       "      <td>2005</td>\n",
       "      <td>53.9</td>\n",
       "    </tr>\n",
       "    <tr>\n",
       "      <th>5871</th>\n",
       "      <td>Djibouti</td>\n",
       "      <td>2004</td>\n",
       "      <td>55.0</td>\n",
       "    </tr>\n",
       "    <tr>\n",
       "      <th>5872</th>\n",
       "      <td>Djibouti</td>\n",
       "      <td>2003</td>\n",
       "      <td>56.1</td>\n",
       "    </tr>\n",
       "    <tr>\n",
       "      <th>5873</th>\n",
       "      <td>Djibouti</td>\n",
       "      <td>2002</td>\n",
       "      <td>57.3</td>\n",
       "    </tr>\n",
       "    <tr>\n",
       "      <th>5874</th>\n",
       "      <td>Djibouti</td>\n",
       "      <td>2001</td>\n",
       "      <td>58.4</td>\n",
       "    </tr>\n",
       "    <tr>\n",
       "      <th>5875</th>\n",
       "      <td>Djibouti</td>\n",
       "      <td>2000</td>\n",
       "      <td>59.5</td>\n",
       "    </tr>\n",
       "    <tr>\n",
       "      <th>5876</th>\n",
       "      <td>Djibouti</td>\n",
       "      <td>1999</td>\n",
       "      <td>60.6</td>\n",
       "    </tr>\n",
       "    <tr>\n",
       "      <th>5877</th>\n",
       "      <td>Djibouti</td>\n",
       "      <td>1998</td>\n",
       "      <td>61.7</td>\n",
       "    </tr>\n",
       "    <tr>\n",
       "      <th>5878</th>\n",
       "      <td>Djibouti</td>\n",
       "      <td>1997</td>\n",
       "      <td>62.9</td>\n",
       "    </tr>\n",
       "    <tr>\n",
       "      <th>5879</th>\n",
       "      <td>Djibouti</td>\n",
       "      <td>1996</td>\n",
       "      <td>64.0</td>\n",
       "    </tr>\n",
       "    <tr>\n",
       "      <th>5880</th>\n",
       "      <td>Djibouti</td>\n",
       "      <td>1995</td>\n",
       "      <td>65.1</td>\n",
       "    </tr>\n",
       "    <tr>\n",
       "      <th>5881</th>\n",
       "      <td>Djibouti</td>\n",
       "      <td>1994</td>\n",
       "      <td>66.2</td>\n",
       "    </tr>\n",
       "    <tr>\n",
       "      <th>5882</th>\n",
       "      <td>Djibouti</td>\n",
       "      <td>1993</td>\n",
       "      <td>66.2</td>\n",
       "    </tr>\n",
       "    <tr>\n",
       "      <th>5883</th>\n",
       "      <td>Djibouti</td>\n",
       "      <td>1992</td>\n",
       "      <td>66.2</td>\n",
       "    </tr>\n",
       "    <tr>\n",
       "      <th>5884</th>\n",
       "      <td>Djibouti</td>\n",
       "      <td>1991</td>\n",
       "      <td>66.2</td>\n",
       "    </tr>\n",
       "    <tr>\n",
       "      <th>5885</th>\n",
       "      <td>Djibouti</td>\n",
       "      <td>1990</td>\n",
       "      <td>66.1</td>\n",
       "    </tr>\n",
       "  </tbody>\n",
       "</table>\n",
       "</div>"
      ],
      "text/plain": [
       "       country  date  value\n",
       "5860  Djibouti  2015   47.4\n",
       "5861  Djibouti  2014   47.4\n",
       "5862  Djibouti  2013   47.3\n",
       "5863  Djibouti  2012   47.3\n",
       "5864  Djibouti  2011   47.3\n",
       "5865  Djibouti  2010   48.4\n",
       "5866  Djibouti  2009   49.5\n",
       "5867  Djibouti  2008   50.6\n",
       "5868  Djibouti  2007   51.7\n",
       "5869  Djibouti  2006   52.8\n",
       "5870  Djibouti  2005   53.9\n",
       "5871  Djibouti  2004   55.0\n",
       "5872  Djibouti  2003   56.1\n",
       "5873  Djibouti  2002   57.3\n",
       "5874  Djibouti  2001   58.4\n",
       "5875  Djibouti  2000   59.5\n",
       "5876  Djibouti  1999   60.6\n",
       "5877  Djibouti  1998   61.7\n",
       "5878  Djibouti  1997   62.9\n",
       "5879  Djibouti  1996   64.0\n",
       "5880  Djibouti  1995   65.1\n",
       "5881  Djibouti  1994   66.2\n",
       "5882  Djibouti  1993   66.2\n",
       "5883  Djibouti  1992   66.2\n",
       "5884  Djibouti  1991   66.2\n",
       "5885  Djibouti  1990   66.1"
      ]
     },
     "execution_count": 24,
     "metadata": {},
     "output_type": "execute_result"
    }
   ],
   "source": [
    "df[df['country'] == 'Djibouti']"
   ]
  },
  {
   "cell_type": "code",
   "execution_count": null,
   "metadata": {
    "collapsed": true
   },
   "outputs": [],
   "source": []
  }
 ],
 "metadata": {
  "kernelspec": {
   "display_name": "Python 2",
   "language": "python",
   "name": "python2"
  },
  "language_info": {
   "codemirror_mode": {
    "name": "ipython",
    "version": 2
   },
   "file_extension": ".py",
   "mimetype": "text/x-python",
   "name": "python",
   "nbconvert_exporter": "python",
   "pygments_lexer": "ipython2",
   "version": "2.7.13"
  },
  "toc": {
   "nav_menu": {
    "height": "11px",
    "width": "252px"
   },
   "navigate_menu": true,
   "number_sections": true,
   "sideBar": true,
   "threshold": 4,
   "toc_cell": true,
   "toc_section_display": "block",
   "toc_window_display": true
  }
 },
 "nbformat": 4,
 "nbformat_minor": 2
}
